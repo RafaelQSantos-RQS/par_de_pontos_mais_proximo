{
 "cells": [
  {
   "cell_type": "markdown",
   "id": "e3267181",
   "metadata": {},
   "source": [
    "# Força bruta\n",
    "A abordagem força bruta para encontrar o par de pontos mais próximos consiste em comparar a distância entre todos os pares possíveis de pontos e manter o menor valor encontrado durante esse processo."
   ]
  },
  {
   "cell_type": "markdown",
   "id": "2c733011",
   "metadata": {},
   "source": [
    "## Explicacao detalhada"
   ]
  },
  {
   "cell_type": "markdown",
   "id": "0d93c033",
   "metadata": {},
   "source": [
    "🎯 **Entrada:**\n",
    "\n",
    "Um conjunto $P$ com $n$ pontos no plano 2D. Cada ponto é uma tupla ou objeto com coordenadas $(x, y)$."
   ]
  },
  {
   "cell_type": "markdown",
   "id": "c2e8dd8d",
   "metadata": {},
   "source": [
    "🔄 **Lógica:**\n",
    "\n",
    "1. Inicialize uma variável para armazenar a **menor distância encontrada até agora**, começando com infinito.\n",
    "2. Percorra **todos os pares de pontos** no conjunto.\n",
    "3. Para cada par, calcule a **distância euclidiana**.\n",
    "4. Se essa distância for **menor do que a atual menor distância**, atualize a menor distância e guarde o par correspondente.\n",
    "5. Ao final, retorne o par de pontos com a menor distância."
   ]
  },
  {
   "cell_type": "markdown",
   "id": "52d671a4",
   "metadata": {},
   "source": [
    "📐 **Fórmula da distância euclidiana** entre dois pontos $p_1 = (x_1, y_1)$ e $p_2 = (x_2, y_2)$:\n",
    "\n",
    "$$\n",
    "d(p_1, p_2) = \\sqrt{(x_1 - x_2)^2 + (y_1 - y_2)^2}\n",
    "$$\n",
    "\n",
    "> Em código, pode-se usar a raiz quadrada ou simplesmente comparar os **quadrados** das distâncias, se só for necessário saber qual é menor."
   ]
  },
  {
   "cell_type": "markdown",
   "id": "ab697ce2",
   "metadata": {},
   "source": [
    "# Implementação"
   ]
  },
  {
   "cell_type": "markdown",
   "id": "e8ad3415",
   "metadata": {},
   "source": [
    "## Código base"
   ]
  },
  {
   "cell_type": "code",
   "execution_count": 1,
   "id": "9bbd202f",
   "metadata": {},
   "outputs": [],
   "source": [
    "import time\n",
    "from typing import List\n",
    "\n",
    "from src.model.ponto import Ponto\n",
    "\n",
    "def ponto_mais_proximo_forca_bruta(pontos: List[Ponto]) -> dict:\n",
    "    \"\"\"\n",
    "    Encontra o par de pontos mais próximo entre uma lista de pontos, usando força bruta.\n",
    "    Também mede o tempo de execução.\n",
    "\n",
    "    Parameters\n",
    "    ----------\n",
    "    pontos : List[Ponto]\n",
    "        Lista de objetos do tipo Ponto.\n",
    "\n",
    "    Returns\n",
    "    -------\n",
    "    dict\n",
    "        Um dicionário contendo:\n",
    "        - 'ponto_1': primeiro ponto do par mais próximo\n",
    "        - 'ponto_2': segundo ponto do par mais próximo\n",
    "        - 'distancia': distância entre os dois pontos\n",
    "        - 'tempo_execucao': tempo em segundos para encontrar o par\n",
    "    \"\"\"\n",
    "    inicio = time.perf_counter()\n",
    "\n",
    "    menor_dist = float('inf')\n",
    "    ponto1_mais_prox = None\n",
    "    ponto2_mais_prox = None\n",
    "\n",
    "    for i in range(len(pontos)):\n",
    "        for j in range(i + 1, len(pontos)):\n",
    "            dist = pontos[i].distancia(pontos[j])\n",
    "            if dist < menor_dist:\n",
    "                menor_dist = dist\n",
    "                ponto1_mais_prox = pontos[i]\n",
    "                ponto2_mais_prox = pontos[j]\n",
    "\n",
    "    fim = time.perf_counter()\n",
    "    tempo_execucao = fim - inicio\n",
    "\n",
    "    return {\n",
    "        'ponto_1': ponto1_mais_prox,\n",
    "        'ponto_2': ponto2_mais_prox,\n",
    "        'distancia': menor_dist,\n",
    "        'tempo_execucao': tempo_execucao\n",
    "    }\n"
   ]
  },
  {
   "cell_type": "markdown",
   "id": "6e0eb2fd",
   "metadata": {},
   "source": [
    "## Benchmark"
   ]
  },
  {
   "cell_type": "markdown",
   "id": "6c168452",
   "metadata": {},
   "source": [
    "### Função de teste"
   ]
  },
  {
   "cell_type": "code",
   "execution_count": 2,
   "id": "a7f779b7",
   "metadata": {},
   "outputs": [],
   "source": [
    "import matplotlib.pyplot as plt\n",
    "\n",
    "from src.utils import gerar_pontos\n",
    "\n",
    "def testar_tempos(n_inicial: int, n_final: int, passo: int, limite: int = 1000):\n",
    "    \"\"\"\n",
    "    Testa o tempo de execução da função de força bruta para diferentes tamanhos de entrada.\n",
    "\n",
    "    Parameters\n",
    "    ----------\n",
    "    n_inicial : int\n",
    "        Número inicial de pontos.\n",
    "    n_final : int\n",
    "        Número final de pontos.\n",
    "    passo : int\n",
    "        Incremento de pontos por teste.\n",
    "    limite : int\n",
    "        Valor máximo para coordenadas dos pontos.\n",
    "    \"\"\"\n",
    "    tamanhos = []\n",
    "    tempos = []\n",
    "\n",
    "    for n in range(n_inicial, n_final + 1, passo):\n",
    "        pontos = gerar_pontos(n, limite=limite)\n",
    "        resultado = ponto_mais_proximo_forca_bruta(pontos)\n",
    "        \n",
    "        tamanhos.append(n)\n",
    "        tempos.append(resultado['tempo_execucao'])\n",
    "        \n",
    "        print(f\"n = {n}, tempo = {resultado['tempo_execucao']:.6f} s\")\n",
    "\n",
    "    # Plotar\n",
    "    plt.figure(figsize=(10, 6))\n",
    "    plt.plot(tamanhos, tempos, marker='o', linestyle='-', color='royalblue')\n",
    "    plt.title('Tempo de Execução vs Número de Pontos (Força Bruta)')\n",
    "    plt.xlabel('Número de pontos')\n",
    "    plt.ylabel('Tempo de execução (s)')\n",
    "    plt.grid(True)\n",
    "    plt.tight_layout()\n",
    "    plt.show()\n"
   ]
  },
  {
   "cell_type": "markdown",
   "id": "7c7fc977",
   "metadata": {},
   "source": [
    "### Resultados"
   ]
  },
  {
   "cell_type": "code",
   "execution_count": 3,
   "id": "37114e71",
   "metadata": {},
   "outputs": [
    {
     "name": "stdout",
     "output_type": "stream",
     "text": [
      "n = 0, tempo = 0.000002 s\n",
      "n = 100, tempo = 0.000946 s\n",
      "n = 200, tempo = 0.007186 s\n",
      "n = 300, tempo = 0.015644 s\n",
      "n = 400, tempo = 0.023584 s\n",
      "n = 500, tempo = 0.019858 s\n",
      "n = 600, tempo = 0.029435 s\n",
      "n = 700, tempo = 0.037808 s\n",
      "n = 800, tempo = 0.051528 s\n",
      "n = 900, tempo = 0.063184 s\n",
      "n = 1000, tempo = 0.079880 s\n",
      "n = 1100, tempo = 0.093614 s\n",
      "n = 1200, tempo = 0.115532 s\n",
      "n = 1300, tempo = 0.130173 s\n",
      "n = 1400, tempo = 0.153257 s\n",
      "n = 1500, tempo = 0.176777 s\n",
      "n = 1600, tempo = 0.200756 s\n",
      "n = 1700, tempo = 0.225248 s\n",
      "n = 1800, tempo = 0.249158 s\n",
      "n = 1900, tempo = 0.277314 s\n",
      "n = 2000, tempo = 0.315202 s\n",
      "n = 2100, tempo = 0.340899 s\n",
      "n = 2200, tempo = 0.372509 s\n",
      "n = 2300, tempo = 0.411840 s\n",
      "n = 2400, tempo = 0.447898 s\n",
      "n = 2500, tempo = 0.493818 s\n",
      "n = 2600, tempo = 0.523724 s\n",
      "n = 2700, tempo = 0.575771 s\n",
      "n = 2800, tempo = 0.603611 s\n",
      "n = 2900, tempo = 0.671463 s\n",
      "n = 3000, tempo = 0.719565 s\n",
      "n = 3100, tempo = 0.757311 s\n",
      "n = 3200, tempo = 0.789353 s\n",
      "n = 3300, tempo = 0.858761 s\n",
      "n = 3400, tempo = 0.924200 s\n",
      "n = 3500, tempo = 0.998454 s\n",
      "n = 3600, tempo = 0.998877 s\n",
      "n = 3700, tempo = 1.082254 s\n",
      "n = 3800, tempo = 1.111005 s\n",
      "n = 3900, tempo = 1.167109 s\n",
      "n = 4000, tempo = 1.251487 s\n",
      "n = 4100, tempo = 1.295599 s\n",
      "n = 4200, tempo = 1.357611 s\n",
      "n = 4300, tempo = 1.426532 s\n",
      "n = 4400, tempo = 1.481773 s\n",
      "n = 4500, tempo = 1.549324 s\n",
      "n = 4600, tempo = 1.633236 s\n",
      "n = 4700, tempo = 1.701589 s\n",
      "n = 4800, tempo = 1.764386 s\n",
      "n = 4900, tempo = 1.845406 s\n",
      "n = 5000, tempo = 1.923736 s\n",
      "n = 5100, tempo = 2.031379 s\n",
      "n = 5200, tempo = 2.072597 s\n",
      "n = 5300, tempo = 2.173728 s\n",
      "n = 5400, tempo = 2.250038 s\n",
      "n = 5500, tempo = 2.330158 s\n",
      "n = 5600, tempo = 2.442232 s\n",
      "n = 5700, tempo = 2.506388 s\n",
      "n = 5800, tempo = 2.600838 s\n",
      "n = 5900, tempo = 2.700854 s\n",
      "n = 6000, tempo = 2.807145 s\n",
      "n = 6100, tempo = 2.905161 s\n",
      "n = 6200, tempo = 2.953633 s\n",
      "n = 6300, tempo = 3.203910 s\n",
      "n = 6400, tempo = 3.138661 s\n",
      "n = 6500, tempo = 3.245326 s\n",
      "n = 6600, tempo = 3.346449 s\n",
      "n = 6700, tempo = 3.521270 s\n",
      "n = 6800, tempo = 3.559470 s\n",
      "n = 6900, tempo = 3.644614 s\n",
      "n = 7000, tempo = 3.761137 s\n",
      "n = 7100, tempo = 3.857429 s\n",
      "n = 7200, tempo = 4.021341 s\n",
      "n = 7300, tempo = 4.148803 s\n",
      "n = 7400, tempo = 4.227913 s\n",
      "n = 7500, tempo = 4.338944 s\n",
      "n = 7600, tempo = 4.425926 s\n",
      "n = 7700, tempo = 4.548233 s\n",
      "n = 7800, tempo = 4.669709 s\n",
      "n = 7900, tempo = 4.772310 s\n",
      "n = 8000, tempo = 4.901392 s\n",
      "n = 8100, tempo = 5.074278 s\n",
      "n = 8200, tempo = 5.244955 s\n",
      "n = 8300, tempo = 5.372186 s\n",
      "n = 8400, tempo = 5.395629 s\n",
      "n = 8500, tempo = 5.599043 s\n",
      "n = 8600, tempo = 5.817625 s\n",
      "n = 8700, tempo = 5.874236 s\n",
      "n = 8800, tempo = 6.033749 s\n",
      "n = 8900, tempo = 6.128775 s\n",
      "n = 9000, tempo = 6.335025 s\n",
      "n = 9100, tempo = 6.428572 s\n",
      "n = 9200, tempo = 6.728228 s\n",
      "n = 9300, tempo = 6.771408 s\n",
      "n = 9400, tempo = 6.885656 s\n",
      "n = 9500, tempo = 7.019272 s\n",
      "n = 9600, tempo = 7.165702 s\n",
      "n = 9700, tempo = 7.319738 s\n",
      "n = 9800, tempo = 7.448951 s\n",
      "n = 9900, tempo = 7.641751 s\n",
      "n = 10000, tempo = 7.810947 s\n"
     ]
    },
    {
     "data": {
      "image/png": "[encoded data removed]",
      "text/plain": [
       "<Figure size 1000x600 with 1 Axes>"
      ]
     },
     "metadata": {},
     "output_type": "display_data"
    }
   ],
   "source": [
    "testar_tempos(n_inicial=0, n_final=10000, passo=100,limite=10000)"
   ]
  }
 ],
 "metadata": {
  "kernelspec": {
   "display_name": ".venv",
   "language": "python",
   "name": "python3"
  },
  "language_info": {
   "codemirror_mode": {
    "name": "ipython",
    "version": 3
   },
   "file_extension": ".py",
   "mimetype": "text/x-python",
   "name": "python",
   "nbconvert_exporter": "python",
   "pygments_lexer": "ipython3",
   "version": "3.12.3"
  }
 },
 "nbformat": 4,
 "nbformat_minor": 5
}
